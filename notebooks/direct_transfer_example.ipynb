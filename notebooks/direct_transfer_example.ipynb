{
 "cells": [
  {
   "cell_type": "code",
   "execution_count": null,
   "metadata": {},
   "outputs": [],
   "source": [
    "import os\n",
    "import sys\n",
    "sys.path.append('..')\n",
    "import cv2\n",
    "import numpy as np\n",
    "import matplotlib.pyplot as plt\n",
    "\n",
    "from testing.test_utils.model import create_model\n",
    "from testing.test_utils.utils_vis import show_mask\n",
    "from testing.test_utils.custom_segment_anything import SamPredictor"
   ]
  },
  {
   "cell_type": "code",
   "execution_count": null,
   "metadata": {
    "tags": []
   },
   "outputs": [],
   "source": [
    "# create model\n",
    "sam_type, sam_ckpt = 'vit_l', 'pretrained_weights/nsclc_full_large/checkpoint.pth'\n",
    "sam = create_model(sam_type, sam_ckpt, encoder_type='timm', lora=False, r=1, enable_lora=[True, True, True])\n",
    "sam = sam.to('cuda')"
   ]
  },
  {
   "cell_type": "code",
   "execution_count": null,
   "metadata": {},
   "outputs": [],
   "source": [
    "# load image\n",
    "test_image = cv2.imread('images/test_image.png')\n",
    "test_image = cv2.cvtColor(test_image, cv2.COLOR_BGR2RGB)\n",
    "if os.path.exists('images/test_mask.png'):\n",
    "    test_mask = cv2.imread('images/test_mask.png', cv2.IMREAD_GRAYSCALE)       \n",
    "    test_mask = test_mask - (test_mask.max()+test_mask.min()) / 2.0\n",
    "    test_mask = (test_mask > 0.0).astype(np.float)\n",
    "else:\n",
    "    test_mask = None\n",
    "plt.figure(figsize=(10, 10))\n",
    "plt.imshow(test_image)\n",
    "if test_mask is not None:\n",
    "    show_mask(test_mask, plt.gca(), -1, linewidth=1) \n",
    "plt.axis('off')\n",
    "plt.show()"
   ]
  },
  {
   "cell_type": "code",
   "execution_count": null,
   "metadata": {},
   "outputs": [],
   "source": [
    "# forward\n",
    "sam.eval()\n",
    "predictor = SamPredictor(sam)\n",
    "predictor.set_image(test_image, medsam=False)\n",
    "masks, _, _, _, _, _ = predictor.predict(\n",
    "    point_coords=None, \n",
    "    point_labels=None, \n",
    "    box=None,\n",
    "    multimask_output=False,\n",
    "    attn_sim=None,  \n",
    "    target_embedding=None \n",
    ")\n",
    "best_idx = 0\n",
    "final_mask = masks[best_idx]"
   ]
  },
  {
   "cell_type": "code",
   "execution_count": null,
   "metadata": {},
   "outputs": [],
   "source": [
    "# plot prediction\n",
    "plt.figure(figsize=(10, 10))\n",
    "plt.imshow(test_image)\n",
    "show_mask(final_mask, plt.gca(), -1, linewidth=1) \n",
    "plt.axis('off')\n",
    "plt.show()"
   ]
  },
  {
   "cell_type": "code",
   "execution_count": null,
   "metadata": {},
   "outputs": [],
   "source": []
  }
 ],
 "metadata": {
  "kernelspec": {
   "display_name": "p2sam",
   "language": "python",
   "name": "p2sam"
  },
  "language_info": {
   "codemirror_mode": {
    "name": "ipython",
    "version": 3
   },
   "file_extension": ".py",
   "mimetype": "text/x-python",
   "name": "python",
   "nbconvert_exporter": "python",
   "pygments_lexer": "ipython3",
   "version": "3.7.16"
  }
 },
 "nbformat": 4,
 "nbformat_minor": 4
}
