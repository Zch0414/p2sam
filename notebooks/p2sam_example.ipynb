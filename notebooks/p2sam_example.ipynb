{
 "cells": [
  {
   "cell_type": "code",
   "execution_count": null,
   "metadata": {},
   "outputs": [],
   "source": [
    "import os\n",
    "import sys\n",
    "sys.path.append('..')\n",
    "import cv2\n",
    "import numpy as np\n",
    "import matplotlib.pyplot as plt\n",
    "\n",
    "from testing.test_utils.model import create_model\n",
    "from testing.test_utils.utils_vis import show_mask, show_neg_points, show_pos_points\n",
    "from testing.test_utils.utils import p2sam_medical\n",
    "\n",
    "\n",
    "class Args:\n",
    "    def __init__(self, **kwargs):\n",
    "        self.__dict__.update(kwargs)"
   ]
  },
  {
   "cell_type": "code",
   "execution_count": null,
   "metadata": {
    "tags": []
   },
   "outputs": [],
   "source": [
    "# create model\n",
    "sam_type, sam_ckpt = 'vit_l', 'pretrained_weights/nsclc_full_large/checkpoint.pth'\n",
    "sam = create_model(sam_type, sam_ckpt, encoder_type='timm', lora=False, r=1, enable_lora=[True, True, True])\n",
    "sam = sam.to('cuda')"
   ]
  },
  {
   "cell_type": "code",
   "execution_count": null,
   "metadata": {},
   "outputs": [],
   "source": [
    "# load image\n",
    "test_image = cv2.imread('images/test_image.png')\n",
    "test_image = cv2.cvtColor(test_image, cv2.COLOR_BGR2RGB)\n",
    "if os.path.exists('images/test_mask.png'):\n",
    "    test_mask = cv2.imread('images/test_mask.png', cv2.IMREAD_GRAYSCALE)       \n",
    "    test_mask = test_mask - (test_mask.max()+test_mask.min()) / 2.0\n",
    "    test_mask = (test_mask > 0.0).astype(np.float)\n",
    "else:\n",
    "    test_mask = None\n",
    "plt.figure(figsize=(10, 10))\n",
    "plt.imshow(test_image)\n",
    "if test_mask is not None:\n",
    "    show_mask(test_mask, plt.gca(), -1, linewidth=1) \n",
    "plt.axis('off')\n",
    "plt.show()"
   ]
  },
  {
   "cell_type": "code",
   "execution_count": null,
   "metadata": {},
   "outputs": [],
   "source": [
    "# forward\n",
    "args = Args(min_num_pos=3, max_num_pos=3, min_num_neg=50, max_num_neg=50, reg_patch_weight=False, medsam=False)\n",
    "sam.eval()\n",
    "pred_mask, point_coords, point_labels, _, _ = p2sam_medical(args, sam, ref_image_path='images/ref_image.png', ref_mask_path='images/ref_mask.png', test_image_path='images/test_image.png', test_mask_path=None, output_path='images/', slice_name='p2sam_result')"
   ]
  },
  {
   "cell_type": "code",
   "execution_count": null,
   "metadata": {},
   "outputs": [],
   "source": [
    "# plot prediction\n",
    "plt.figure(figsize=(10, 10))\n",
    "plt.imshow(test_image)\n",
    "show_mask(pred_mask, plt.gca(), -1, linewidth=1) \n",
    "show_pos_points(point_coords, point_labels, plt.gca(), -1, None, marker_size=100, linewidth=1.5)\n",
    "show_neg_points(point_coords, point_labels, plt.gca(), 'red', marker_size=100, linewidth=1.5)\n",
    "plt.axis('off')\n",
    "plt.show()"
   ]
  },
  {
   "cell_type": "code",
   "execution_count": null,
   "metadata": {},
   "outputs": [],
   "source": []
  }
 ],
 "metadata": {
  "kernelspec": {
   "display_name": "p2sam",
   "language": "python",
   "name": "p2sam"
  },
  "language_info": {
   "codemirror_mode": {
    "name": "ipython",
    "version": 3
   },
   "file_extension": ".py",
   "mimetype": "text/x-python",
   "name": "python",
   "nbconvert_exporter": "python",
   "pygments_lexer": "ipython3",
   "version": "3.7.16"
  }
 },
 "nbformat": 4,
 "nbformat_minor": 4
}
